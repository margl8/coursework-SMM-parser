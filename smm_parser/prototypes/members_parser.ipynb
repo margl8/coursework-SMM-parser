{
 "cells": [
  {
   "cell_type": "code",
   "execution_count": 17,
   "metadata": {},
   "outputs": [],
   "source": [
    "import pandas as pd\n",
    "import datetime as dt\n",
    "import time\n",
    "import requests as rq\n"
   ]
  },
  {
   "cell_type": "code",
   "execution_count": 18,
   "metadata": {},
   "outputs": [],
   "source": [
    "version = 5.131\n",
    "token = 'fcf784d2fcf784d2fcf784d206ffe7472fffcf7fcf784d29fdf12d1cff39e144bbbaa42'\n",
    "time_now = dt.datetime.now().strftime('%d-%m-%Y_%H-%M-%S')\n",
    "df = pd.DataFrame()\n"
   ]
  },
  {
   "cell_type": "code",
   "execution_count": null,
   "metadata": {},
   "outputs": [],
   "source": [
    "offset = 0\n",
    "count = 1\n",
    "iter = 0\n",
    "members = []\n",
    "group_id = str(input())\n",
    "\n",
    "while offset < count:\n",
    "    request = rq.get('https://api.vk.com/method/groups.getMembers',\n",
    "                                params={\n",
    "                                'access_token': token,\n",
    "                                'v': version,\n",
    "                                'group_id': group_id,\n",
    "                                'offset': offset\n",
    "                                }).json()['response']\n",
    "    count = request['count']\n",
    "    offset += 1000\n",
    "    members.extend(request['items'])\n",
    "    iter += 1\n",
    "    if iter % 5 == 0:\n",
    "        time.sleep(0.5)\n",
    "        continue\n",
    "\n",
    "df[f'{group_id}_member_id'] = pd.DataFrame(members)\n",
    "df.to_csv(f'./{group_id}_members.csv', header=True, index=False)"
   ]
  }
 ],
 "metadata": {
  "kernelspec": {
   "display_name": "Python 3.11.0 ('venv': venv)",
   "language": "python",
   "name": "python3"
  },
  "language_info": {
   "codemirror_mode": {
    "name": "ipython",
    "version": 3
   },
   "file_extension": ".py",
   "mimetype": "text/x-python",
   "name": "python",
   "nbconvert_exporter": "python",
   "pygments_lexer": "ipython3",
   "version": "3.11.0"
  },
  "orig_nbformat": 4,
  "vscode": {
   "interpreter": {
    "hash": "00c7658d932852fb2cdaffeff526420ac956a801d8fec7c9fc94e27d82f36966"
   }
  }
 },
 "nbformat": 4,
 "nbformat_minor": 2
}
