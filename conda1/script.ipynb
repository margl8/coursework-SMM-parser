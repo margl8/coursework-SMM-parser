{
 "cells": [
  {
   "cell_type": "code",
   "execution_count": 105,
   "metadata": {},
   "outputs": [],
   "source": [
    "import pandas as pd\n",
    "import datetime as dt\n",
    "import requests as rq\n",
    "import numpy as np\n",
    "import json \n"
   ]
  },
  {
   "cell_type": "code",
   "execution_count": 106,
   "metadata": {},
   "outputs": [],
   "source": [
    "version = 5.131\n",
    "token = 'fcf784d2fcf784d2fcf784d206ffe7472fffcf7fcf784d29fdf12d1cff39e144bbbaa42'\n",
    "time_now = dt.datetime.now().strftime('%d-%m-%Y_%H-%M-%S')\n",
    "date_today = dt.datetime.now().strftime('%d-%m-%Y')"
   ]
  },
  {
   "cell_type": "code",
   "execution_count": 107,
   "metadata": {},
   "outputs": [
    {
     "data": {
      "text/plain": [
       "'df.insert(1, \"vk_group_id\", df[\\'vk_screen_name\\'].apply(get_vk_group_id))\\n'"
      ]
     },
     "execution_count": 107,
     "metadata": {},
     "output_type": "execute_result"
    }
   ],
   "source": [
    "df = pd.read_csv('screen_names.csv', skipinitialspace = True)  #input the file, delete extra spaces\n",
    "df['vk_screen_name'] = df['vk_screen_name'].str.replace('https://vk.com/', '', regex=True)\n",
    "'''df.insert(1, \"vk_group_id\", df['vk_screen_name'].apply(get_vk_group_id))\n",
    "'''"
   ]
  },
  {
   "cell_type": "code",
   "execution_count": 108,
   "metadata": {},
   "outputs": [],
   "source": [
    "def get_vk_group_id (screen_name):\n",
    "    request = rq.get('https://api.vk.com/method/utils.resolveScreenName',\n",
    "                     params={\n",
    "                      'access_token': token,\n",
    "                      'v': version,\n",
    "                      'screen_name': screen_name\n",
    "                      })\n",
    "    response = request.json()\n",
    "    return response\n"
   ]
  },
  {
   "cell_type": "code",
   "execution_count": 109,
   "metadata": {},
   "outputs": [
    {
     "name": "stdout",
     "output_type": "stream",
     "text": [
      "182825795\n"
     ]
    }
   ],
   "source": [
    "jopa = get_vk_group_id('screen_name')\n",
    "jopa = jopa.get('response')\n",
    "print(jopa.get('object_id'))"
   ]
  },
  {
   "cell_type": "code",
   "execution_count": 110,
   "metadata": {},
   "outputs": [],
   "source": [
    "def get_object_id (dict):\n",
    "    dict = dict.get('response')\n",
    "    id = dict.get('object_id')\n",
    "    return id\n",
    "\n",
    "\n",
    "df.insert(1, \"vk_group_id\", df['vk_screen_name'].apply(get_vk_group_id))\n"
   ]
  },
  {
   "cell_type": "code",
   "execution_count": 111,
   "metadata": {},
   "outputs": [
    {
     "data": {
      "text/plain": [
       "{'response': {'object_id': 212301402, 'type': 'group'}}"
      ]
     },
     "execution_count": 111,
     "metadata": {},
     "output_type": "execute_result"
    }
   ],
   "source": [
    "df.iloc[1]['vk_group_id']"
   ]
  },
  {
   "cell_type": "markdown",
   "metadata": {},
   "source": [
    "https://towardsdatascience.com/how-to-parse-json-data-with-python-pandas-f84fbd0b1025 "
   ]
  }
 ],
 "metadata": {
  "kernelspec": {
   "display_name": "Python 3.9.13 ('base')",
   "language": "python",
   "name": "python3"
  },
  "language_info": {
   "codemirror_mode": {
    "name": "ipython",
    "version": 3
   },
   "file_extension": ".py",
   "mimetype": "text/x-python",
   "name": "python",
   "nbconvert_exporter": "python",
   "pygments_lexer": "ipython3",
   "version": "3.9.13"
  },
  "orig_nbformat": 4,
  "vscode": {
   "interpreter": {
    "hash": "f08154012ddadd8e950e6e9e035c7a7b32c136e7647e9b7c77e02eb723a8bedb"
   }
  }
 },
 "nbformat": 4,
 "nbformat_minor": 2
}
