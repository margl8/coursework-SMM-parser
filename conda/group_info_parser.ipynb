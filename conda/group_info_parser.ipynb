{
 "cells": [
  {
   "cell_type": "code",
   "execution_count": 1,
   "metadata": {},
   "outputs": [],
   "source": [
    "import pandas as pd\n",
    "import datetime as dt\n",
    "import time\n",
    "import requests as rq\n"
   ]
  },
  {
   "cell_type": "code",
   "execution_count": 2,
   "metadata": {},
   "outputs": [],
   "source": [
    "version = 5.131\n",
    "token = 'fcf784d2fcf784d2fcf784d206ffe7472fffcf7fcf784d29fdf12d1cff39e144bbbaa42'\n",
    "time_now = dt.datetime.now().strftime('%d-%m-%Y_%H-%M-%S')"
   ]
  },
  {
   "cell_type": "code",
   "execution_count": 3,
   "metadata": {},
   "outputs": [],
   "source": [
    "df = pd.read_csv('screen_names.csv', skipinitialspace = True)  #input the file, delete extra spaces\n",
    "df['vk_screen_name'] = df['vk_screen_name'].str.replace('https://vk.com/', '', regex=True)\n"
   ]
  },
  {
   "cell_type": "code",
   "execution_count": 4,
   "metadata": {},
   "outputs": [
    {
     "name": "stdout",
     "output_type": "stream",
     "text": [
      "welltex_bryansk\n",
      "welltexvladivostok\n",
      "welltex_vladimir\n",
      "wellmart_krasnodar\n",
      "wellmartcompany\n",
      "wellmartpyatigorsk\n",
      "well_market\n",
      "welltex_volgograd34\n",
      "welltex36\n",
      "welltex_ekaterinburg\n",
      "welltex_ivanovo\n",
      "welltex_izhevsk\n",
      "welltexirkutsk\n",
      "welltex_kazan_official\n",
      "welltex__kaluga\n",
      "welltex_kemerovo\n",
      "welltex_kirov\n",
      "welltexkos44\n",
      "welltexkrsk\n",
      "welltexlipetsk\n",
      "welltex\n",
      "welltexnnovgorod\n",
      "public211754589\n",
      "welltex_nvkz\n",
      "welltex_nsk\n",
      "welltex_omsk\n",
      "weltex_orel\n",
      "welltex_oren\n",
      "welltexosetia\n",
      "welltex_perm\n",
      "welltex_rostov\n",
      "welltex_ryazan\n",
      "welltex_samara\n",
      "welltex_saratov\n",
      "public213083584\n",
      "club_welltex_stavropol\n",
      "welltexstoskol\n",
      "welltex_tambov\n",
      "welltex_tomsk\n",
      "welltex_tula\n",
      "welltex_tmn\n",
      "welltex_ul\n",
      "welltexufa\n",
      "welltex_cheb\n",
      "welltex_chelyabinsk\n",
      "welltex_yaroslavl\n"
     ]
    }
   ],
   "source": [
    "def get_vk_group_id (screen_name):\n",
    "    print(screen_name)\n",
    "    request = rq.get('https://api.vk.com/method/utils.resolveScreenName',\n",
    "                        params={\n",
    "                        'access_token': token,\n",
    "                        'v': version,\n",
    "                        'screen_name': screen_name\n",
    "                        })\n",
    "    resp = request.json().get('response', None)\n",
    "    time.sleep(0.05)\n",
    "    if resp:\n",
    "        return resp['object_id']\n",
    "    return -1\n",
    "\n",
    "df['vk_group_id'] = df['vk_screen_name'].apply(get_vk_group_id)"
   ]
  },
  {
   "cell_type": "code",
   "execution_count": 5,
   "metadata": {},
   "outputs": [
    {
     "name": "stdout",
     "output_type": "stream",
     "text": [
      "138057800\n",
      "212301402\n",
      "211564060\n",
      "212601423\n",
      "88690011\n",
      "212092097\n",
      "143442883\n",
      "212606612\n",
      "211730367\n",
      "212308968\n",
      "211036901\n",
      "104702032\n",
      "212301674\n",
      "212212679\n",
      "212803257\n",
      "211285344\n",
      "210653049\n",
      "207665254\n",
      "187829594\n",
      "213805744\n",
      "22564985\n",
      "212301576\n",
      "211754589\n",
      "191955743\n",
      "212622649\n",
      "211584444\n",
      "211702375\n",
      "212200447\n",
      "212660472\n",
      "145456773\n",
      "212468145\n",
      "205740620\n",
      "212921045\n",
      "212629186\n",
      "213083584\n",
      "213006046\n",
      "213688793\n",
      "139781126\n",
      "212923965\n",
      "211386387\n",
      "43902525\n",
      "214369850\n",
      "65034354\n",
      "212556062\n",
      "211240901\n",
      "207810649\n"
     ]
    }
   ],
   "source": [
    "def get_vk_group_name (group_id):\n",
    "    print(group_id)\n",
    "    request = rq.get('https://api.vk.com/method/groups.getById',\n",
    "                            params={\n",
    "                            'access_token': token,\n",
    "                            'v': version,\n",
    "                            'group_id': group_id\n",
    "                            })\n",
    "    resp = request.json().get('response', None)\n",
    "    time.sleep(0.05)\n",
    "    if resp:\n",
    "        resp = resp[0]\n",
    "        return resp['name']\n",
    "    return -1\n",
    "\n",
    "df['vk_group_name'] = df['vk_group_id'].apply(get_vk_group_name)"
   ]
  },
  {
   "cell_type": "code",
   "execution_count": 12,
   "metadata": {},
   "outputs": [],
   "source": [
    "df.to_excel('./vk_groups.xlsx')\n"
   ]
  }
 ],
 "metadata": {
  "kernelspec": {
   "display_name": "Python 3.10.7 64-bit",
   "language": "python",
   "name": "python3"
  },
  "language_info": {
   "codemirror_mode": {
    "name": "ipython",
    "version": 3
   },
   "file_extension": ".py",
   "mimetype": "text/x-python",
   "name": "python",
   "nbconvert_exporter": "python",
   "pygments_lexer": "ipython3",
   "version": "3.10.7"
  },
  "orig_nbformat": 4,
  "vscode": {
   "interpreter": {
    "hash": "afb734500600fd355917ca529030176ea0ca205570884b88f2f6f7d791fd3fbe"
   }
  }
 },
 "nbformat": 4,
 "nbformat_minor": 2
}
