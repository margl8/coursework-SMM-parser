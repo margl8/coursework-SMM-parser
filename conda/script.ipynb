{
 "cells": [
  {
   "cell_type": "code",
   "execution_count": 90,
   "metadata": {},
   "outputs": [],
   "source": [
    "import pandas as pd\n",
    "import datetime as dt\n",
    "import time\n",
    "import requests as rq\n",
    "import numpy as np\n"
   ]
  },
  {
   "cell_type": "code",
   "execution_count": 91,
   "metadata": {},
   "outputs": [],
   "source": [
    "version = 5.131\n",
    "token = 'fcf784d2fcf784d2fcf784d206ffe7472fffcf7fcf784d29fdf12d1cff39e144bbbaa42'\n",
    "time_now = dt.datetime.now().strftime('%d-%m-%Y_%H-%M-%S')"
   ]
  },
  {
   "cell_type": "code",
   "execution_count": 92,
   "metadata": {},
   "outputs": [],
   "source": [
    "df = pd.read_csv('screen_names.csv', skipinitialspace = True)  #input the file, delete extra spaces\n",
    "df['vk_screen_name'] = df['vk_screen_name'].str.replace('https://vk.com/', '', regex=True)\n"
   ]
  },
  {
   "cell_type": "code",
   "execution_count": null,
   "metadata": {},
   "outputs": [],
   "source": [
    "def get_vk_group_id (screen_name):\n",
    "    print(screen_name)\n",
    "    request = rq.get('https://api.vk.com/method/utils.resolveScreenName',\n",
    "                        params={\n",
    "                        'access_token': token,\n",
    "                        'v': version,\n",
    "                        'screen_name': screen_name\n",
    "                        })\n",
    "    resp = request.json().get('response', None)\n",
    "    time.sleep(0.1)\n",
    "    if resp:\n",
    "        return resp['object_id']\n",
    "    return -1\n",
    "\n",
    "df['vk_group_id'] = df['vk_screen_name'].apply(get_vk_group_id)"
   ]
  },
  {
   "cell_type": "code",
   "execution_count": 96,
   "metadata": {},
   "outputs": [
    {
     "name": "stdout",
     "output_type": "stream",
     "text": [
      "138057800\n",
      "212301402\n",
      "211564060\n",
      "212601423\n",
      "88690011\n",
      "212092097\n",
      "143442883\n",
      "212606612\n",
      "211730367\n",
      "212308968\n",
      "211036901\n",
      "104702032\n",
      "212301674\n",
      "212212679\n",
      "212803257\n",
      "211285344\n",
      "210653049\n",
      "207665254\n",
      "187829594\n",
      "213805744\n",
      "22564985\n",
      "212301576\n",
      "211754589\n",
      "191955743\n",
      "212622649\n",
      "211584444\n",
      "211702375\n",
      "212200447\n",
      "212660472\n",
      "145456773\n",
      "212468145\n",
      "205740620\n",
      "212921045\n",
      "212629186\n",
      "213083584\n",
      "721072542\n",
      "213688793\n",
      "139781126\n",
      "212923965\n",
      "211386387\n",
      "43902525\n",
      "214369850\n",
      "65034354\n",
      "212556062\n",
      "211240901\n",
      "207810649\n"
     ]
    }
   ],
   "source": [
    "def get_vk_group_name (group_id):\n",
    "    print(group_id)\n",
    "    request = rq.get('https://api.vk.com/method/groups.getById',\n",
    "                            params={\n",
    "                            'access_token': token,\n",
    "                            'v': version,\n",
    "                            'group_id': group_id\n",
    "                            })\n",
    "    resp = request.json().get('response', None)\n",
    "    time.sleep(0.1)\n",
    "    if resp:\n",
    "        resp = resp[0]\n",
    "        return resp['name']\n",
    "    return -1\n",
    "\n",
    "df['vk_group_name'] = df['vk_group_id'].apply(get_vk_group_name)"
   ]
  }
 ],
 "metadata": {
  "kernelspec": {
   "display_name": "Python 3.11.0 ('venv': venv)",
   "language": "python",
   "name": "python3"
  },
  "language_info": {
   "codemirror_mode": {
    "name": "ipython",
    "version": 3
   },
   "file_extension": ".py",
   "mimetype": "text/x-python",
   "name": "python",
   "nbconvert_exporter": "python",
   "pygments_lexer": "ipython3",
   "version": "3.11.0"
  },
  "orig_nbformat": 4,
  "vscode": {
   "interpreter": {
    "hash": "00c7658d932852fb2cdaffeff526420ac956a801d8fec7c9fc94e27d82f36966"
   }
  }
 },
 "nbformat": 4,
 "nbformat_minor": 2
}
